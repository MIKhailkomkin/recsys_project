{
 "cells": [
  {
   "cell_type": "code",
   "execution_count": 2,
   "id": "c98c9181",
   "metadata": {},
   "outputs": [
    {
     "name": "stderr",
     "output_type": "stream",
     "text": [
      "d:\\proga\\computer_technology_project\\.venv\\Lib\\site-packages\\tqdm\\auto.py:21: TqdmWarning: IProgress not found. Please update jupyter and ipywidgets. See https://ipywidgets.readthedocs.io/en/stable/user_install.html\n",
      "  from .autonotebook import tqdm as notebook_tqdm\n"
     ]
    }
   ],
   "source": [
    "import pandas as pd\n",
    "import numpy as np\n",
    "from sklearn.preprocessing import MinMaxScaler\n",
    "from sentence_transformers import SentenceTransformer"
   ]
  },
  {
   "cell_type": "code",
   "execution_count": 3,
   "id": "35a1c031",
   "metadata": {},
   "outputs": [
    {
     "name": "stderr",
     "output_type": "stream",
     "text": [
      "<>:1: SyntaxWarning: invalid escape sequence '\\d'\n",
      "<>:1: SyntaxWarning: invalid escape sequence '\\d'\n",
      "C:\\Users\\mikha\\AppData\\Local\\Temp\\ipykernel_6320\\3900269106.py:1: SyntaxWarning: invalid escape sequence '\\d'\n",
      "  df = pd.read_csv(\"D:\\downloads_d\\movies.csv\")\n"
     ]
    },
    {
     "data": {
      "text/html": [
       "<div>\n",
       "<style scoped>\n",
       "    .dataframe tbody tr th:only-of-type {\n",
       "        vertical-align: middle;\n",
       "    }\n",
       "\n",
       "    .dataframe tbody tr th {\n",
       "        vertical-align: top;\n",
       "    }\n",
       "\n",
       "    .dataframe thead th {\n",
       "        text-align: right;\n",
       "    }\n",
       "</style>\n",
       "<table border=\"1\" class=\"dataframe\">\n",
       "  <thead>\n",
       "    <tr style=\"text-align: right;\">\n",
       "      <th></th>\n",
       "      <th>Unnamed: 0</th>\n",
       "      <th>id</th>\n",
       "      <th>title</th>\n",
       "      <th>overview</th>\n",
       "      <th>release_date</th>\n",
       "      <th>popularity</th>\n",
       "      <th>vote_average</th>\n",
       "      <th>vote_count</th>\n",
       "    </tr>\n",
       "  </thead>\n",
       "  <tbody>\n",
       "    <tr>\n",
       "      <th>0</th>\n",
       "      <td>0</td>\n",
       "      <td>19404</td>\n",
       "      <td>Dilwale Dulhania Le Jayenge</td>\n",
       "      <td>Raj is a rich, carefree, happy-go-lucky second...</td>\n",
       "      <td>1995-10-20</td>\n",
       "      <td>18.433</td>\n",
       "      <td>8.7</td>\n",
       "      <td>2763</td>\n",
       "    </tr>\n",
       "    <tr>\n",
       "      <th>1</th>\n",
       "      <td>1</td>\n",
       "      <td>724089</td>\n",
       "      <td>Gabriel's Inferno Part II</td>\n",
       "      <td>Professor Gabriel Emerson finally learns the t...</td>\n",
       "      <td>2020-07-31</td>\n",
       "      <td>8.439</td>\n",
       "      <td>8.7</td>\n",
       "      <td>1223</td>\n",
       "    </tr>\n",
       "    <tr>\n",
       "      <th>2</th>\n",
       "      <td>2</td>\n",
       "      <td>278</td>\n",
       "      <td>The Shawshank Redemption</td>\n",
       "      <td>Framed in the 1940s for the double murder of h...</td>\n",
       "      <td>1994-09-23</td>\n",
       "      <td>65.570</td>\n",
       "      <td>8.7</td>\n",
       "      <td>18637</td>\n",
       "    </tr>\n",
       "    <tr>\n",
       "      <th>3</th>\n",
       "      <td>3</td>\n",
       "      <td>238</td>\n",
       "      <td>The Godfather</td>\n",
       "      <td>Spanning the years 1945 to 1955, a chronicle o...</td>\n",
       "      <td>1972-03-14</td>\n",
       "      <td>63.277</td>\n",
       "      <td>8.7</td>\n",
       "      <td>14052</td>\n",
       "    </tr>\n",
       "    <tr>\n",
       "      <th>4</th>\n",
       "      <td>4</td>\n",
       "      <td>761053</td>\n",
       "      <td>Gabriel's Inferno Part III</td>\n",
       "      <td>The final part of the film adaption of the ero...</td>\n",
       "      <td>2020-11-19</td>\n",
       "      <td>26.691</td>\n",
       "      <td>8.7</td>\n",
       "      <td>773</td>\n",
       "    </tr>\n",
       "    <tr>\n",
       "      <th>...</th>\n",
       "      <td>...</td>\n",
       "      <td>...</td>\n",
       "      <td>...</td>\n",
       "      <td>...</td>\n",
       "      <td>...</td>\n",
       "      <td>...</td>\n",
       "      <td>...</td>\n",
       "      <td>...</td>\n",
       "    </tr>\n",
       "    <tr>\n",
       "      <th>8546</th>\n",
       "      <td>8546</td>\n",
       "      <td>13805</td>\n",
       "      <td>Disaster Movie</td>\n",
       "      <td>The filmmaking team behind the hits \"Scary Mov...</td>\n",
       "      <td>2008-08-29</td>\n",
       "      <td>14.630</td>\n",
       "      <td>3.2</td>\n",
       "      <td>714</td>\n",
       "    </tr>\n",
       "    <tr>\n",
       "      <th>8547</th>\n",
       "      <td>8547</td>\n",
       "      <td>5491</td>\n",
       "      <td>Battlefield Earth</td>\n",
       "      <td>In the year 3000, man is no match for the Psyc...</td>\n",
       "      <td>2000-05-12</td>\n",
       "      <td>10.647</td>\n",
       "      <td>3.0</td>\n",
       "      <td>543</td>\n",
       "    </tr>\n",
       "    <tr>\n",
       "      <th>8548</th>\n",
       "      <td>8548</td>\n",
       "      <td>14164</td>\n",
       "      <td>Dragonball Evolution</td>\n",
       "      <td>The young warrior Son Goku sets out on a quest...</td>\n",
       "      <td>2009-03-12</td>\n",
       "      <td>32.244</td>\n",
       "      <td>2.8</td>\n",
       "      <td>1447</td>\n",
       "    </tr>\n",
       "    <tr>\n",
       "      <th>8549</th>\n",
       "      <td>8549</td>\n",
       "      <td>11059</td>\n",
       "      <td>House of the Dead</td>\n",
       "      <td>Set on an island off the coast, a techno rave ...</td>\n",
       "      <td>2003-04-11</td>\n",
       "      <td>14.502</td>\n",
       "      <td>2.8</td>\n",
       "      <td>238</td>\n",
       "    </tr>\n",
       "    <tr>\n",
       "      <th>8550</th>\n",
       "      <td>8550</td>\n",
       "      <td>40016</td>\n",
       "      <td>Birdemic: Shock and Terror</td>\n",
       "      <td>A platoon of eagles and vultures attacks the r...</td>\n",
       "      <td>2010-02-27</td>\n",
       "      <td>9.824</td>\n",
       "      <td>2.2</td>\n",
       "      <td>215</td>\n",
       "    </tr>\n",
       "  </tbody>\n",
       "</table>\n",
       "<p>8551 rows × 8 columns</p>\n",
       "</div>"
      ],
      "text/plain": [
       "      Unnamed: 0      id                        title  \\\n",
       "0              0   19404  Dilwale Dulhania Le Jayenge   \n",
       "1              1  724089    Gabriel's Inferno Part II   \n",
       "2              2     278     The Shawshank Redemption   \n",
       "3              3     238                The Godfather   \n",
       "4              4  761053   Gabriel's Inferno Part III   \n",
       "...          ...     ...                          ...   \n",
       "8546        8546   13805               Disaster Movie   \n",
       "8547        8547    5491            Battlefield Earth   \n",
       "8548        8548   14164         Dragonball Evolution   \n",
       "8549        8549   11059            House of the Dead   \n",
       "8550        8550   40016   Birdemic: Shock and Terror   \n",
       "\n",
       "                                               overview release_date  \\\n",
       "0     Raj is a rich, carefree, happy-go-lucky second...   1995-10-20   \n",
       "1     Professor Gabriel Emerson finally learns the t...   2020-07-31   \n",
       "2     Framed in the 1940s for the double murder of h...   1994-09-23   \n",
       "3     Spanning the years 1945 to 1955, a chronicle o...   1972-03-14   \n",
       "4     The final part of the film adaption of the ero...   2020-11-19   \n",
       "...                                                 ...          ...   \n",
       "8546  The filmmaking team behind the hits \"Scary Mov...   2008-08-29   \n",
       "8547  In the year 3000, man is no match for the Psyc...   2000-05-12   \n",
       "8548  The young warrior Son Goku sets out on a quest...   2009-03-12   \n",
       "8549  Set on an island off the coast, a techno rave ...   2003-04-11   \n",
       "8550  A platoon of eagles and vultures attacks the r...   2010-02-27   \n",
       "\n",
       "      popularity  vote_average  vote_count  \n",
       "0         18.433           8.7        2763  \n",
       "1          8.439           8.7        1223  \n",
       "2         65.570           8.7       18637  \n",
       "3         63.277           8.7       14052  \n",
       "4         26.691           8.7         773  \n",
       "...          ...           ...         ...  \n",
       "8546      14.630           3.2         714  \n",
       "8547      10.647           3.0         543  \n",
       "8548      32.244           2.8        1447  \n",
       "8549      14.502           2.8         238  \n",
       "8550       9.824           2.2         215  \n",
       "\n",
       "[8551 rows x 8 columns]"
      ]
     },
     "execution_count": 3,
     "metadata": {},
     "output_type": "execute_result"
    }
   ],
   "source": [
    "df = pd.read_csv(\"D:\\downloads_d\\movies.csv\")\n",
    "df"
   ]
  },
  {
   "cell_type": "markdown",
   "id": "185ecfc0",
   "metadata": {},
   "source": [
    "заполнение пустых значений "
   ]
  },
  {
   "cell_type": "code",
   "execution_count": 5,
   "id": "71249524",
   "metadata": {},
   "outputs": [
    {
     "data": {
      "text/plain": [
       "Unnamed: 0      0\n",
       "id              0\n",
       "title           0\n",
       "overview        0\n",
       "release_date    0\n",
       "popularity      0\n",
       "vote_average    0\n",
       "vote_count      0\n",
       "dtype: int64"
      ]
     },
     "execution_count": 5,
     "metadata": {},
     "output_type": "execute_result"
    }
   ],
   "source": [
    "df = df.dropna(subset=['title', 'overview'])\n",
    "df.isna().sum()"
   ]
  },
  {
   "cell_type": "markdown",
   "id": "62ba4e53",
   "metadata": {},
   "source": [
    "создаем текстовые эмбединги "
   ]
  },
  {
   "cell_type": "code",
   "execution_count": 6,
   "id": "b739bd4a",
   "metadata": {},
   "outputs": [
    {
     "name": "stderr",
     "output_type": "stream",
     "text": [
      "d:\\proga\\computer_technology_project\\.venv\\Lib\\site-packages\\huggingface_hub\\file_download.py:144: UserWarning: `huggingface_hub` cache-system uses symlinks by default to efficiently store duplicated files but your machine does not support them in C:\\Users\\mikha\\.cache\\huggingface\\hub\\models--sentence-transformers--all-MiniLM-L6-v2. Caching files will still work but in a degraded version that might require more space on your disk. This warning can be disabled by setting the `HF_HUB_DISABLE_SYMLINKS_WARNING` environment variable. For more details, see https://huggingface.co/docs/huggingface_hub/how-to-cache#limitations.\n",
      "To support symlinks on Windows, you either need to activate Developer Mode or to run Python as an administrator. In order to activate developer mode, see this article: https://docs.microsoft.com/en-us/windows/apps/get-started/enable-your-device-for-development\n",
      "  warnings.warn(message)\n",
      "Xet Storage is enabled for this repo, but the 'hf_xet' package is not installed. Falling back to regular HTTP download. For better performance, install the package with: `pip install huggingface_hub[hf_xet]` or `pip install hf_xet`\n",
      "Batches: 100%|██████████| 267/267 [01:01<00:00,  4.34it/s]\n"
     ]
    }
   ],
   "source": [
    "texts = (df[\"title\"] + \" \" + df[\"overview\"]).tolist()\n",
    "model = SentenceTransformer(\"all-MiniLM-L6-v2\")\n",
    "text_embeddings = model.encode(texts, show_progress_bar=True)"
   ]
  },
  {
   "cell_type": "markdown",
   "id": "211f6b34",
   "metadata": {},
   "source": [
    "нормализуем числовые признаки"
   ]
  },
  {
   "cell_type": "code",
   "execution_count": 7,
   "id": "3c24b584",
   "metadata": {},
   "outputs": [],
   "source": [
    "numeric_features = df[[\"popularity\", \"vote_average\", \"vote_count\"]]\n",
    "scaler = MinMaxScaler()\n",
    "numeric_embeddings = scaler.fit_transform(numeric_features)"
   ]
  },
  {
   "cell_type": "markdown",
   "id": "94bb3b9b",
   "metadata": {},
   "source": [
    "объединяем все в один эмбединг "
   ]
  },
  {
   "cell_type": "code",
   "execution_count": 8,
   "id": "4d42bdb4",
   "metadata": {},
   "outputs": [
    {
     "name": "stdout",
     "output_type": "stream",
     "text": [
      "Финалные эмбединги: (8531, 387)\n"
     ]
    }
   ],
   "source": [
    "final_embeddings = np.hstack([text_embeddings, numeric_embeddings])\n",
    "\n",
    "print(\"Финалные эмбединги:\", final_embeddings.shape)"
   ]
  },
  {
   "cell_type": "code",
   "execution_count": 21,
   "id": "d3b9bdc4",
   "metadata": {},
   "outputs": [],
   "source": [
    "# Предположим, у нас уже есть:\n",
    "# - df (исходный DataFrame с id, title)\n",
    "# - final_embeddings (массив эмбедингов, shape = [n_movies, embedding_dim])\n",
    "\n",
    "# Преобразуем эмбеддинги в строки\n",
    "embedding_strings = [json.dumps(embedding.tolist()) for embedding in final_embeddings]\n",
    "\n",
    "# Создаём новый DataFrame\n",
    "result_df = pd.DataFrame({\n",
    "    \"id\": df[\"id\"],\n",
    "    \"title\": df[\"title\"],\n",
    "    \"popularity\": df[\"popularity\"],\n",
    "    \"embedding\": embedding_strings  # сохраняем эмбеддинги как строки\n",
    "})\n",
    "\n"
   ]
  },
  {
   "cell_type": "code",
   "execution_count": 23,
   "id": "1625f88d",
   "metadata": {},
   "outputs": [
    {
     "data": {
      "text/plain": [
       "0       [-0.06061665341258049, 0.06988733261823654, 0....\n",
       "1       [-0.035317450761795044, -0.0042189364321529865...\n",
       "2       [-0.03228230029344559, -0.04405484348535538, -...\n",
       "3       [-0.08061544597148895, 0.03567180782556534, -0...\n",
       "4       [-0.03265352174639702, -0.023313350975513458, ...\n",
       "                              ...                        \n",
       "8546    [-0.053737789392471313, -0.04901444911956787, ...\n",
       "8547    [-0.08673122525215149, 0.10429753363132477, -0...\n",
       "8548    [-0.059643641114234924, 0.0857674777507782, -0...\n",
       "8549    [-0.03159128502011299, 0.000796342792455107, -...\n",
       "8550    [0.051322948187589645, 0.004296405706554651, -...\n",
       "Name: embedding, Length: 8531, dtype: object"
      ]
     },
     "execution_count": 23,
     "metadata": {},
     "output_type": "execute_result"
    }
   ],
   "source": [
    "result_df['embedding']"
   ]
  },
  {
   "cell_type": "code",
   "execution_count": 25,
   "id": "92461ac4",
   "metadata": {},
   "outputs": [
    {
     "ename": "InvalidTextRepresentation",
     "evalue": "invalid input syntax for type double precision: \"[\"\nLINE 3: ...ES (19404, 'Dilwale Dulhania Le Jayenge', 18.433, '{[,-,0,.,...\n                                                             ^\n",
     "output_type": "error",
     "traceback": [
      "\u001b[31m---------------------------------------------------------------------------\u001b[39m",
      "\u001b[31mInvalidTextRepresentation\u001b[39m                 Traceback (most recent call last)",
      "\u001b[36mCell\u001b[39m\u001b[36m \u001b[39m\u001b[32mIn[25]\u001b[39m\u001b[32m, line 13\u001b[39m\n\u001b[32m     11\u001b[39m     \u001b[38;5;66;03m# Преобразуем эмбеддинг в строку в формате массива для PostgreSQL\u001b[39;00m\n\u001b[32m     12\u001b[39m     embedding_str = \u001b[33m\"\u001b[39m\u001b[33m{\u001b[39m\u001b[33m\"\u001b[39m + \u001b[33m\"\u001b[39m\u001b[33m,\u001b[39m\u001b[33m\"\u001b[39m.join(\u001b[38;5;28mmap\u001b[39m(\u001b[38;5;28mstr\u001b[39m, embedding)) + \u001b[33m\"\u001b[39m\u001b[33m}\u001b[39m\u001b[33m\"\u001b[39m  \u001b[38;5;66;03m# преобразуем в строку для PostgreSQL\u001b[39;00m\n\u001b[32m---> \u001b[39m\u001b[32m13\u001b[39m     \u001b[43mcursor\u001b[49m\u001b[43m.\u001b[49m\u001b[43mexecute\u001b[49m\u001b[43m(\u001b[49m\u001b[33;43m\"\"\"\u001b[39;49m\n\u001b[32m     14\u001b[39m \u001b[33;43m        INSERT INTO movies (id, title, popularity, embedding)\u001b[39;49m\n\u001b[32m     15\u001b[39m \u001b[33;43m        VALUES (\u001b[39;49m\u001b[38;5;132;43;01m%s\u001b[39;49;00m\u001b[33;43m, \u001b[39;49m\u001b[38;5;132;43;01m%s\u001b[39;49;00m\u001b[33;43m, \u001b[39;49m\u001b[38;5;132;43;01m%s\u001b[39;49;00m\u001b[33;43m, \u001b[39;49m\u001b[38;5;132;43;01m%s\u001b[39;49;00m\u001b[33;43m)\u001b[39;49m\n\u001b[32m     16\u001b[39m \u001b[33;43m    \u001b[39;49m\u001b[33;43m\"\"\"\u001b[39;49m\u001b[43m,\u001b[49m\u001b[43m \u001b[49m\u001b[43m(\u001b[49m\u001b[43mrow\u001b[49m\u001b[43m[\u001b[49m\u001b[33;43m\"\u001b[39;49m\u001b[33;43mid\u001b[39;49m\u001b[33;43m\"\u001b[39;49m\u001b[43m]\u001b[49m\u001b[43m,\u001b[49m\u001b[43m \u001b[49m\u001b[43mrow\u001b[49m\u001b[43m[\u001b[49m\u001b[33;43m\"\u001b[39;49m\u001b[33;43mtitle\u001b[39;49m\u001b[33;43m\"\u001b[39;49m\u001b[43m]\u001b[49m\u001b[43m,\u001b[49m\u001b[43m \u001b[49m\u001b[43mrow\u001b[49m\u001b[43m[\u001b[49m\u001b[33;43m\"\u001b[39;49m\u001b[33;43mpopularity\u001b[39;49m\u001b[33;43m\"\u001b[39;49m\u001b[43m]\u001b[49m\u001b[43m,\u001b[49m\u001b[43m \u001b[49m\u001b[43membedding_str\u001b[49m\u001b[43m)\u001b[49m\u001b[43m)\u001b[49m\n\u001b[32m     18\u001b[39m \u001b[38;5;66;03m# Подтверждаем изменения в базе данных\u001b[39;00m\n\u001b[32m     19\u001b[39m conn.commit()\n",
      "\u001b[31mInvalidTextRepresentation\u001b[39m: invalid input syntax for type double precision: \"[\"\nLINE 3: ...ES (19404, 'Dilwale Dulhania Le Jayenge', 18.433, '{[,-,0,.,...\n                                                             ^\n"
     ]
    }
   ],
   "source": [
    "import psycopg2\n",
    "import numpy as np\n",
    "\n",
    "# Подключение к базе данных PostgreSQL\n",
    "conn = psycopg2.connect(database=\"postgres\", user=\"postgres\", password=\"misha\", host=\"\", port=\"\")\n",
    "cursor = conn.cursor()\n",
    "\n",
    "# Перебираем строки DataFrame и вставляем их в таблицу movies\n",
    "for idx, row in result_df.iterrows():\n",
    "    embedding = row[\"embedding\"]\n",
    "    # Преобразуем эмбеддинг в строку в формате массива для PostgreSQL\n",
    "    embedding_str = \"{\" + \",\".join(map(str, embedding)) + \"}\"  # преобразуем в строку для PostgreSQL\n",
    "    cursor.execute(\"\"\"\n",
    "        INSERT INTO movies (id, title, popularity, embedding)\n",
    "        VALUES (%s, %s, %s, %s)\n",
    "    \"\"\", (row[\"id\"], row[\"title\"], row[\"popularity\"], embedding_str))\n",
    "\n",
    "# Подтверждаем изменения в базе данных\n",
    "conn.commit()\n",
    "\n",
    "# Закрываем соединение\n",
    "cursor.close()\n",
    "conn.close()\n",
    "\n",
    "print(\"Данные успешно загружены в таблицу 'movies' в PostgreSQL!\")\n"
   ]
  }
 ],
 "metadata": {
  "kernelspec": {
   "display_name": ".venv",
   "language": "python",
   "name": "python3"
  },
  "language_info": {
   "codemirror_mode": {
    "name": "ipython",
    "version": 3
   },
   "file_extension": ".py",
   "mimetype": "text/x-python",
   "name": "python",
   "nbconvert_exporter": "python",
   "pygments_lexer": "ipython3",
   "version": "3.12.0"
  }
 },
 "nbformat": 4,
 "nbformat_minor": 5
}
